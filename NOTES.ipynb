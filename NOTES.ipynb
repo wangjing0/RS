{
 "cells": [
  {
   "cell_type": "markdown",
   "id": "c80d8787-d1f6-41a7-9d8c-59c185d9455a",
   "metadata": {},
   "source": [
    "### 1. A simple RecSys without user data\n",
    "* Data. Item features will be extracted from text (NLP required). \n",
    "\n",
    "| | Feature1(numeric) | Feature2(categorical)... | Descriptions (text) | Customer Reviews Ratings (numeric)| Customer Reviews (text)|\n",
    "|---:|:-------------|:-----------|:-----------|:-----------|:-----------|\n",
    "| Item1 | 100 | 'red'   | 'xxxxx'  | 1.0 | 'xxxxx'  | \n",
    "| Item2 | 200| 'blue'  | 'xxxxx'  | 4.0 | 'xxxxx'  | \n",
    "| Item3 | 200  | 'green'  | 'xxxxx'  | 4.5| 'xxxxx'  | \n",
    "\n",
    "* How does it work?\n",
    "    * vectorize each item -> feature engineering with NLP tools\n",
    "    * cluster items according to their features -> unsupervised learning methods such as Kmeans, DBSCAN, or get a hierarchical structure\n",
    "    * We can manually label few examples, and use semi-supervised learning methods for clustering.\n",
    "    * can also do keyword search. (a search engine)\n",
    "         * vectorize the search keywords in similar way as item text descriptions\n",
    "         * match the keyword vector with cluster averaged vector -> return the class tag of the clustering.-> a fuzzy search, from coarse to fine search use the hierarachical structures within the items.\n",
    "         * match keyword vector with item vectors using similarity -> return individual item -> an itemwise search.\n",
    "         * get the top K items according to similarity -> a ranking problem\n",
    "\n",
    "\n",
    "### 2. A RecSys with content based filtering\n",
    "* Data\n",
    "    * Item information similar to in 1.\n",
    "    * For user-item interaction, below is an example.\n",
    "    * All we need is who interacted with what, we do not need detailed profile of customers.\n",
    "\n",
    "| interaction index | User ID | Item ID | Interaction type/ratings (numeric, categorical) (optional)| Timestamp (optional) |\n",
    "|---:|:-------------|:-----------|:-----------|:-----------|\n",
    "| 0 | u1 |  v100 | 'view'  / 1.0 |  2022-6-20 13:56:00  | \n",
    "| 1 | u2 | v33  | 'purchase'  / 4.0 | 2022-6-20 13:56:01  | \n",
    "| 2 | u3  | v679  | 'comment'  / 4.5| 2022-6-20 13:56:59   | \n",
    "\n",
    "* Data processing: Convert the above user-interaction-item triplet into an interaction matrix $ X $\n",
    "    * If the interaction type/ratings are specified, NaN means no interaction history, and graded value indicates strength of interaction, we will have a regression case.\n",
    "    * If the interaction type/ratings are not specified, we will replace NaN with 0. use it as a binary classification case: 1 means interacted, 0 means not interacted.\n",
    "    \n",
    "| | item1 | item2 | item3 | item4 |\n",
    "|---:|:-------------|:-----------|:-----------|:-----------|\n",
    "| user0 | NaN |  1.0 | 3.0 | 0|\n",
    "| user1 | 2.0 | 1.0  | 0 | 4.5|\n",
    "| user2 | 0  | 2.5 | 5.0 | NaN |\n",
    "\n",
    "* Content based filtering: How does it work?      \n",
    "    * same as in section 1, we first vectorize each item\n",
    "    * Let's say user A bought item x, recommend a similar item y such that a similarity score function sim(x,y) is highest. -> A recommendation/ranking problem\n",
    "    * If the predicted A vs y relation is a rating score. Can we predict y accurately? -> A regression problem\n",
    "    * If the predicted A vs y relation is binary -> classification problem\n",
    "   \n",
    "\n",
    "### 3. A RecSys with collaborative filtering \n",
    "\n",
    "* Collaborative filtering: how does it work?\n",
    "    * Both user A and B purchased x, given user A also bought y, we should recommend y to B.\n",
    "    * Concept is simple, implementation uses Matrix Factorization. The input is the interaction matrix X, the output is the two lower rank matrix U and V called factors\n",
    "\n",
    "    * $X = U^T V$\n",
    "         \n",
    "         X has shape of (m,n) <br> \n",
    "         U has shape of (k,m)-> so called user embedding <br> \n",
    "         V has shape of (k,n)-> so called item embedding <br> \n",
    "         m is the number of users, n is the total number of items, k is the preset number of factors - \"stereotypes\" of user/item groups - usually k << m,n.\n",
    "    * Loss function = MSE + L2 regularization\n",
    "        $$ L(U,V) = \\sum_{i,j}(u^T_i v_j - X_{i,j})^2+ \\lambda (|u_i|^2 + |v_j|^2)$$\n",
    "    * The graded rating can be used for regression. The binary value can be used for classification\n",
    "    \n",
    "    \n",
    "\n",
    "### 4. User-attribute-aware collaborative filtering\n",
    "\n",
    "* with item, user-item information\n",
    "* Additional User attributes can refine the collaborative filtering further, but we will not go into the rabbit hole\n",
    "\n",
    "\n",
    "| | Gender| Age | Geographic info (zipcode, IP etc)|\n",
    "|---:|:-------------|:-----------|:-----------|\n",
    "| User1 | F | 20   | 'xxxxx' |\n",
    "| User2 | M | 40  | 'xxxxx'  | \n",
    "| User3 | M | 50  | 'xxxxx'  | \n"
   ]
  },
  {
   "cell_type": "markdown",
   "id": "2953bc87-712f-4880-8c51-d10b83cc73aa",
   "metadata": {},
   "source": [
    "\n",
    "## Problem statement\n",
    "* Bussiness problems\n",
    "* Metrics\n",
    "\n",
    "\n",
    "## Data\n",
    "* Items / Users / User-Item\n",
    "\n",
    "## Model\n",
    "* Feature selection\n",
    "* Feature engineering\n",
    "* how to train-val-test split\n",
    "* \n",
    "\n",
    "## Deployment\n",
    "* "
   ]
  },
  {
   "cell_type": "code",
   "execution_count": null,
   "id": "8fbda9b5-adb4-44ba-832d-9f1f03f749aa",
   "metadata": {},
   "outputs": [],
   "source": []
  }
 ],
 "metadata": {
  "kernelspec": {
   "display_name": "Python 3 (ipykernel)",
   "language": "python",
   "name": "python3"
  },
  "language_info": {
   "codemirror_mode": {
    "name": "ipython",
    "version": 3
   },
   "file_extension": ".py",
   "mimetype": "text/x-python",
   "name": "python",
   "nbconvert_exporter": "python",
   "pygments_lexer": "ipython3",
   "version": "3.9.12"
  },
  "varInspector": {
   "cols": {
    "lenName": 16,
    "lenType": 16,
    "lenVar": 40
   },
   "kernels_config": {
    "python": {
     "delete_cmd_postfix": "",
     "delete_cmd_prefix": "del ",
     "library": "var_list.py",
     "varRefreshCmd": "print(var_dic_list())"
    },
    "r": {
     "delete_cmd_postfix": ") ",
     "delete_cmd_prefix": "rm(",
     "library": "var_list.r",
     "varRefreshCmd": "cat(var_dic_list()) "
    }
   },
   "types_to_exclude": [
    "module",
    "function",
    "builtin_function_or_method",
    "instance",
    "_Feature"
   ],
   "window_display": false
  }
 },
 "nbformat": 4,
 "nbformat_minor": 5
}
