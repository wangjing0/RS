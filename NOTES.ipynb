{
 "cells": [
  {
   "cell_type": "markdown",
   "id": "25dd4a6d-8fb8-4eec-8962-b157b0aaa3f5",
   "metadata": {},
   "source": []
  },
  {
   "cell_type": "markdown",
   "id": "053c4f6b-3857-4e28-a67b-b563b2501cb5",
   "metadata": {},
   "source": [
    "Article:\n",
    "https://cseweb.ucsd.edu/~jmcauley/pdfs/www19.pdf\n",
    "\n",
    "https://www.sciencetimes.com/articles/20642/20190423/new-personalized-deep-learning-tool-recommends-routes-by-estimating-runners-heart-rates.html\n",
    "\n",
    "Data and instruction:\n",
    "https://sites.google.com/eng.ucsd.edu/fitrec-project/home\n",
    "\n",
    "\n",
    "The specific version of the data was cleaned: \n",
    "## Insights from the dataset and paper\n",
    " * Lots of workout sessions, and reasonable number of users\n",
    " * The average span for individual user is 733 days. Seems promising for a longitudinal study on how exercises change heart physiology.\n",
    " * During workout, individual's heart rate varies a lot. Factors include gender, workout type, speed, workout duration, and altitude elevation. Other implicit factors could be exercise frequency, how many days since starting of exercise, which can be extracted from the data. \n",
    " * Unfortunately, age and body weight are important features missing in the dataset. However, on the feature engineering side, we can normalized first the data within individual user, and then examine the improvement of heart rate within individual user, compare those across different users, and how different factors influence the change of heart rate at the population level.\n",
    " * Build a model to predict long-term change of heart rate based on exercise statistics, and give personalized recommendation accordingly.\n",
    " * Tree model is probably the way to go, noted that the interaction between features are not trivial/linear. For example, figure 4: altitude influences the heart rate during biking differently from that during running\n",
    " \n",
    " <img src=\"stats.png\" style=\"width:500px;height:600px;\">"
   ]
  },
  {
   "cell_type": "markdown",
   "id": "b226af44-b4ed-470b-88f0-b52fbd8b40f0",
   "metadata": {},
   "source": [
    "# Notes on the data:\n",
    "### 'HR.csv': the Dataframe of workout with heart_rate recorded\n",
    "    shape = (253020, 13)\n",
    "* 'userId': unique user ID, there are total 1104 users. \n",
    "* 'gender': 'male' or 'female'\n",
    "* 'id': unique id for each workout session\n",
    "* 'sport': workout type\n",
    "* 'ave_heart_rate': heart rate in beats per minute (bpm), averaged across the session\n",
    "* 'speed': a time series of speed, during workout, 500 samples.\n",
    "* 'ave_speed': averaged speed (Km/hour)\n",
    "* 'ave_altitude': averaged altitude (meter)\n",
    "* 'max_altitude': maximum altitude index, and maximum altitude (will be used to infer uphill or downhill)\n",
    "* 'min_altitude': minimum altitdue index, and minimum altitude\n",
    "* 'start_end': Start and end timestamps, in second\n",
    "* 'ave_longitude', 'ave_latitude': averaged longitude and latitude\n",
    "\n",
    "### 'Meta.csv': the metadata for all workout sessions\n",
    "    shape = (962190, 12)\n",
    "* 'userId': unique user ID, there are total 1364 users.\n",
    "* 'hydration': ?\n",
    "* 'gender': 'male' or 'female'\n",
    "* 'id': unique id for each workout session\n",
    "* 'sport': workout type\n",
    "* 'ascent', 'descent': total ascent and descent in meters\n",
    "* 'calories': total calories consumed\n",
    "* 'distance': total distance in Km\n",
    "* 'duration': session duration in second\n",
    "* 'weather': there are 37 unique weather conditions, unknown\n",
    "* 'start_time': workout starting time. "
   ]
  },
  {
   "cell_type": "markdown",
   "id": "c974f929-53f6-4b45-a00c-885752a27781",
   "metadata": {},
   "source": [
    "## Example extracted features\n",
    "\n",
    "\n",
    "| |UserID | Gender | Sport | Duration | Speed_mean | Speed_dev | Distance | Altitude_mean| Altitude_elevation_abs| Altitude_Dev | Longitude | Latitude| Heart_rate| Sessions_since_beginning |\n",
    "|---:|:-------------|:-----------|:-----------|:-----------|:-----------|:-----------|:-----------|:-----------|:-----------|:-----------|:-----------|:-----------|:-----------|:-----------|\n",
    "| Session1 | 100 | male | bike | 3300 | | | | | | | | |||\n",
    "| Session2 | 200 | female | running | 2700 | | | | | | ||| | |\n",
    "| ... | ... | ... | ... | ... | | | | | | ||| | |"
   ]
  },
  {
   "cell_type": "markdown",
   "id": "22e93e8e-0eba-4656-bdcb-9dfdb51a3a2e",
   "metadata": {},
   "source": [
    "# [6/28/2022](#628)\n",
    "\n",
    "### Data:  Meta.csv and HR.csv in the [Google folder](https://drive.google.com/drive/folders/19LxXlxvg2ozc_b3wlVFhXxrClnFLvnoh)\n",
    "\n",
    "### Exploratory Analysis in [notebook](https://github.com/wangjing0/RS/blob/main/Analysis.ipynb)\n",
    "\n",
    "### Findings\n",
    "* some sports have large gender difference in heart rate\n",
    "* 'duration', 'distance', and 'calories' are close to normally distributed after log tranformation, so transform them.\n",
    "* sports are clustered in the feature space of ('duration','distance','carlories') -> can be used for recommending sport according to individual selection. \n",
    "* Within individual user, heart rate are highly correlated with the calories_rate (calories per unit time). -> can be used for calorie prediction. "
   ]
  },
  {
   "cell_type": "markdown",
   "id": "276f71ef-361a-4f30-93b8-031a667ca447",
   "metadata": {},
   "source": []
  },
  {
   "cell_type": "code",
   "execution_count": null,
   "id": "107e120e-aacf-417c-a8be-0bdbc52734cc",
   "metadata": {},
   "outputs": [],
   "source": []
  },
  {
   "cell_type": "code",
   "execution_count": null,
   "id": "3043f9dc-e595-44ba-ae52-b8c175d98089",
   "metadata": {},
   "outputs": [],
   "source": []
  },
  {
   "cell_type": "code",
   "execution_count": null,
   "id": "9300d726-7e42-4af4-b220-b502247aa17e",
   "metadata": {},
   "outputs": [],
   "source": []
  },
  {
   "cell_type": "code",
   "execution_count": null,
   "id": "ea1f9f56-8f3f-42f1-8ca9-208513c5a640",
   "metadata": {},
   "outputs": [],
   "source": []
  },
  {
   "cell_type": "code",
   "execution_count": null,
   "id": "88224592-1176-4d49-a47b-31efdd335039",
   "metadata": {},
   "outputs": [],
   "source": []
  },
  {
   "cell_type": "code",
   "execution_count": null,
   "id": "8b445398-20f1-4ebc-938f-25afc06f5916",
   "metadata": {},
   "outputs": [],
   "source": []
  },
  {
   "cell_type": "code",
   "execution_count": null,
   "id": "41db15b3-4768-4739-bb80-2eccddd7adb0",
   "metadata": {},
   "outputs": [],
   "source": []
  },
  {
   "cell_type": "code",
   "execution_count": null,
   "id": "73395a4a-9b0f-49d5-b920-23307f736ea6",
   "metadata": {},
   "outputs": [],
   "source": []
  },
  {
   "cell_type": "code",
   "execution_count": null,
   "id": "732c76d1-a94f-4199-a2de-b738075f1cf1",
   "metadata": {},
   "outputs": [],
   "source": []
  },
  {
   "cell_type": "code",
   "execution_count": null,
   "id": "08604311-d2b2-47f3-b84d-2bf7b9f15b98",
   "metadata": {},
   "outputs": [],
   "source": []
  },
  {
   "cell_type": "code",
   "execution_count": null,
   "id": "3bf5d52f-4723-4b21-aa00-f8c87730faae",
   "metadata": {},
   "outputs": [],
   "source": []
  },
  {
   "cell_type": "code",
   "execution_count": null,
   "id": "4ac45a57-e457-4d44-8e7d-c046d19e8250",
   "metadata": {},
   "outputs": [],
   "source": []
  },
  {
   "cell_type": "code",
   "execution_count": null,
   "id": "a807e4d3-5b10-43c4-8d35-094bd251f444",
   "metadata": {},
   "outputs": [],
   "source": []
  },
  {
   "cell_type": "code",
   "execution_count": null,
   "id": "396d3cec-29da-49dd-8e51-2c4d3a9b1463",
   "metadata": {},
   "outputs": [],
   "source": []
  },
  {
   "cell_type": "code",
   "execution_count": null,
   "id": "a21b1455-4b9a-452b-b261-6bf2e4f022cf",
   "metadata": {},
   "outputs": [],
   "source": []
  },
  {
   "cell_type": "code",
   "execution_count": null,
   "id": "463ac2c6-6c12-49ef-9a18-ac6b6eccede1",
   "metadata": {},
   "outputs": [],
   "source": []
  },
  {
   "cell_type": "code",
   "execution_count": null,
   "id": "9fd3d2fd-5b0e-45ee-bd91-f9fc668de0c0",
   "metadata": {},
   "outputs": [],
   "source": []
  },
  {
   "cell_type": "code",
   "execution_count": 467,
   "id": "42581e32-2987-437c-adb6-2eccbb4fbb5e",
   "metadata": {},
   "outputs": [
    {
     "data": {
      "text/html": [
       "<div>\n",
       "<style scoped>\n",
       "    .dataframe tbody tr th:only-of-type {\n",
       "        vertical-align: middle;\n",
       "    }\n",
       "\n",
       "    .dataframe tbody tr th {\n",
       "        vertical-align: top;\n",
       "    }\n",
       "\n",
       "    .dataframe thead th {\n",
       "        text-align: right;\n",
       "    }\n",
       "</style>\n",
       "<table border=\"1\" class=\"dataframe\">\n",
       "  <thead>\n",
       "    <tr style=\"text-align: right;\">\n",
       "      <th></th>\n",
       "      <th>id</th>\n",
       "      <th>heart_rate</th>\n",
       "      <th>speed(m/s)</th>\n",
       "    </tr>\n",
       "  </thead>\n",
       "  <tbody>\n",
       "    <tr>\n",
       "      <th>0</th>\n",
       "      <td>396826535</td>\n",
       "      <td>[100. 111. 120. 119. 120. 116. 125. 128. 131. ...</td>\n",
       "      <td>[ 0.          2.99611712  4.68300039  4.426539...</td>\n",
       "    </tr>\n",
       "    <tr>\n",
       "      <th>1</th>\n",
       "      <td>392337038</td>\n",
       "      <td>[100. 105. 111. 110. 108. 115. 126. 130. 132. ...</td>\n",
       "      <td>[ 0.          3.43885299  3.97920185  4.821890...</td>\n",
       "    </tr>\n",
       "    <tr>\n",
       "      <th>2</th>\n",
       "      <td>389643739</td>\n",
       "      <td>[ 99. 105. 113. 110. 109. 110. 108. 121. 116. ...</td>\n",
       "      <td>[ 0.          2.11422888  4.53498053  5.049129...</td>\n",
       "    </tr>\n",
       "    <tr>\n",
       "      <th>3</th>\n",
       "      <td>386729739</td>\n",
       "      <td>[ 99. 105. 113. 109. 112. 116. 116. 114. 114. ...</td>\n",
       "      <td>[ 0.          3.51697022  4.68025841  5.612893...</td>\n",
       "    </tr>\n",
       "    <tr>\n",
       "      <th>4</th>\n",
       "      <td>383186560</td>\n",
       "      <td>[110. 113. 114. 116. 123. 126. 129. 135. 137. ...</td>\n",
       "      <td>[ 0.          3.60678252  4.79945428  5.570207...</td>\n",
       "    </tr>\n",
       "  </tbody>\n",
       "</table>\n",
       "</div>"
      ],
      "text/plain": [
       "          id                                         heart_rate  \\\n",
       "0  396826535  [100. 111. 120. 119. 120. 116. 125. 128. 131. ...   \n",
       "1  392337038  [100. 105. 111. 110. 108. 115. 126. 130. 132. ...   \n",
       "2  389643739  [ 99. 105. 113. 110. 109. 110. 108. 121. 116. ...   \n",
       "3  386729739  [ 99. 105. 113. 109. 112. 116. 116. 114. 114. ...   \n",
       "4  383186560  [110. 113. 114. 116. 123. 126. 129. 135. 137. ...   \n",
       "\n",
       "                                          speed(m/s)  \n",
       "0  [ 0.          2.99611712  4.68300039  4.426539...  \n",
       "1  [ 0.          3.43885299  3.97920185  4.821890...  \n",
       "2  [ 0.          2.11422888  4.53498053  5.049129...  \n",
       "3  [ 0.          3.51697022  4.68025841  5.612893...  \n",
       "4  [ 0.          3.60678252  4.79945428  5.570207...  "
      ]
     },
     "execution_count": 467,
     "metadata": {},
     "output_type": "execute_result"
    }
   ],
   "source": [
    "#stri = (df_hr_proper['speed(m/s)'][0])\n",
    "df_hr_speed_proper = df_hr_proper[['id','heart_rate','speed(m/s)']]\n",
    "df_hr_speed_proper.head()"
   ]
  },
  {
   "cell_type": "code",
   "execution_count": 418,
   "id": "8e684f86-f6c1-4115-a562-c846750b2ba0",
   "metadata": {},
   "outputs": [
    {
     "data": {
      "text/plain": [
       "'[100. 111. 120. 119. 120. 116. 125. 128. 131. 132. 135. 137. 142. 143. 143. 148. 148. 148. 142. 141. 143. 146. 151. 149. 146. 147. 157. 155. 159. 152. 146. 147. 154. 157. 153. 143. 142. 138. 135. 134. 133. 133. 134. 135. 143. 142. 146. 151. 155. 163. 161. 150. 140. 139. 142. 147. 158. 158. 159. 166. 167. 166. 164. 163. 157. 147. 143. 142. 143. 143. 142. 139. 141. 152. 160. 148. 150. 154. 148. 144. 149. 154. 162. 162. 163. 164. 153. 150. 145. 150. 159. 159. 161. 165. 167. 169. 167. 161. 155. 151. 152. 152. 150. 148. 147. 146. 143. 145. 151. 155. 155. 161. 164. 164. 161. 156. 149. 141. 140. 139. 150. 151. 153. 153. 150. 143. 142. 153. 153. 152. 153. 153. 154. 146. 141. 138. 146. 147. 146. 144. 148. 151. 154. 157. 153. 151. 155. 155. 150. 146. 150. 155. 160. 161. 164. 160. 154. 148. 156. 160. 163. 157. 154. 159. 160. 163. 162. 156. 151. 152. 156. 157. 150. 144. 151. 159. 163. 162. 155. 155. 152. 151. 150. 150. 146. 141. 142. 148. 153. 157. 161. 169. 168. 162. 157. 160. 167. 172. 173. 168. 158. 155. 150. 148. 156. 161. 159. 157. 160. 165. 162. 166. 166. 157. 152. 150. 151. 154. 162. 165. 160. 158. 155. 150. 155. 154. 147. 144. 144. 148. 150. 155. 157. 150. 143. 141. 138. 141. 141. 152. 153. 151. 158. 158. 155. 149. 152. 155. 157. 159. 158. 161. 165. 162. 163. 159. 155. 158. 158. 150. 144. 139. 135. 132. 139. 145. 149. 154. 156. 157. 161. 163. 160. 157. 153. 158. 164. 158. 159. 156. 146. 148. 145. 143. 144. 140. 141. 141. 139. 138. 146. 150. 159. 166. 164. 153. 148. 140. 147. 155. 152. 150. 146. 149. 150. 153. 159. 163. 164. 164. 159. 157. 148. 154. 155. 147. 147. 148. 147. 148. 156. 163. 167. 159. 151. 146. 144. 147. 163. 174. 172. 173. 165. 158. 154. 152. 159. 158. 168. 169. 162. 155. 158. 163. 168. 169. 162. 160. 156. 150. 147. 146. 145. 144. 148. 152. 153. 154. 161. 163. 166. 171. 171. 171. 171. 167. 167. 162. 158. 156. 155. 154. 154. 154. 154. 162. 163. 165. 167. 158. 157. 159. 161. 159. 161. 161. 158. 157. 158. 163. 169. 166. 163. 160. 161. 164. 168. 163. 155. 150. 147. 146. 140. 139. 138. 143. 148. 145. 144. 148. 147. 144. 140. 141. 137. 131. 133. 136. 140. 147. 150. 142. 144. 149. 157. 160. 164. 168. 170. 173. 174. 176. 177. 166. 154. 154. 148. 148. 157. 153. 146. 143. 134. 140. 144. 144. 144. 138. 133. 139. 155. 165. 172. 175. 168. 164. 165. 164. 156. 151. 154. 152. 152. 156. 166. 161. 156. 152. 156. 162. 163. 156. 150. 152. 152. 149. 137. 150. 157. 166. 167. 155. 154. 138. 143. 148. 147. 148. 156. 152. 151. 143. 146. 148. 140. 147. 152. 153. 163. 151.]'"
      ]
     },
     "execution_count": 418,
     "metadata": {},
     "output_type": "execute_result"
    }
   ],
   "source": [
    "import os\n",
    "df_hr_proper.iloc[0]['heart_rate'].replace('\\n', '')"
   ]
  },
  {
   "cell_type": "code",
   "execution_count": 502,
   "id": "7712b08e-e53d-473c-86c4-2e3fffce8cba",
   "metadata": {},
   "outputs": [],
   "source": [
    "#df_hr_speed_proper.to_csv('./data/HR_speed_proper.csv')\n",
    "df_hr_speed_proper_hr = df_hr_proper['heart_rate'].apply(lambda x:[float(s) for s in eval(re.sub('\\s+', ',', x.replace('\\n','').replace('[ ','[').replace('[ ','['))) ] )"
   ]
  },
  {
   "cell_type": "code",
   "execution_count": 446,
   "id": "afd4aaad-7914-4c58-b1cb-2c2683f27cde",
   "metadata": {},
   "outputs": [
    {
     "data": {
      "text/plain": [
       "500"
      ]
     },
     "execution_count": 446,
     "metadata": {},
     "output_type": "execute_result"
    }
   ],
   "source": [
    "import re\n",
    "arr = df_hr_proper.iloc[0]['speed(m/s)']\n",
    "#len(eval(re.sub('\\s+', ',', arr.replace('\\n','').replace('[ ','['))))\n",
    "#arr.replace('\\n','').replace('[ 0.\\ ','[')"
   ]
  },
  {
   "cell_type": "code",
   "execution_count": 491,
   "id": "a67739e6-8f21-4891-bd45-add515d5b1fc",
   "metadata": {},
   "outputs": [],
   "source": [
    "speed_ = df_hr_proper.iloc[7:10]['speed(m/s)'].apply(lambda x:[float(s) for s in eval(re.sub('\\s+', ',', x.replace('\\n','').replace('[ ','['))) ] )\n",
    "#speed_.iloc[0]"
   ]
  },
  {
   "cell_type": "code",
   "execution_count": 510,
   "id": "152bc6a5-7d05-49a2-a22f-ccf991b0ef93",
   "metadata": {},
   "outputs": [
    {
     "ename": "NameError",
     "evalue": "name 'inf' is not defined",
     "output_type": "error",
     "traceback": [
      "\u001b[0;31m---------------------------------------------------------------------------\u001b[0m",
      "\u001b[0;31mNameError\u001b[0m                                 Traceback (most recent call last)",
      "Input \u001b[0;32mIn [510]\u001b[0m, in \u001b[0;36m<cell line: 1>\u001b[0;34m()\u001b[0m\n\u001b[0;32m----> 1\u001b[0m df_hr_speed_proper_speed \u001b[38;5;241m=\u001b[39m \u001b[43mdf_hr_proper\u001b[49m\u001b[43m[\u001b[49m\u001b[38;5;124;43m'\u001b[39;49m\u001b[38;5;124;43mspeed(m/s)\u001b[39;49m\u001b[38;5;124;43m'\u001b[39;49m\u001b[43m]\u001b[49m\u001b[38;5;241;43m.\u001b[39;49m\u001b[43mapply\u001b[49m\u001b[43m(\u001b[49m\u001b[38;5;28;43;01mlambda\u001b[39;49;00m\u001b[43m \u001b[49m\u001b[43mx\u001b[49m\u001b[43m:\u001b[49m\u001b[43m[\u001b[49m\u001b[38;5;28;43mfloat\u001b[39;49m\u001b[43m(\u001b[49m\u001b[43ms\u001b[49m\u001b[43m)\u001b[49m\u001b[43m \u001b[49m\u001b[38;5;28;43;01mfor\u001b[39;49;00m\u001b[43m \u001b[49m\u001b[43ms\u001b[49m\u001b[43m \u001b[49m\u001b[38;5;129;43;01min\u001b[39;49;00m\u001b[43m \u001b[49m\u001b[38;5;28;43meval\u001b[39;49m\u001b[43m(\u001b[49m\u001b[43mre\u001b[49m\u001b[38;5;241;43m.\u001b[39;49m\u001b[43msub\u001b[49m\u001b[43m(\u001b[49m\u001b[38;5;124;43m'\u001b[39;49m\u001b[38;5;124;43m\\\u001b[39;49m\u001b[38;5;124;43ms+\u001b[39;49m\u001b[38;5;124;43m'\u001b[39;49m\u001b[43m,\u001b[49m\u001b[43m \u001b[49m\u001b[38;5;124;43m'\u001b[39;49m\u001b[38;5;124;43m,\u001b[39;49m\u001b[38;5;124;43m'\u001b[39;49m\u001b[43m,\u001b[49m\u001b[43m \u001b[49m\u001b[43mx\u001b[49m\u001b[38;5;241;43m.\u001b[39;49m\u001b[43mreplace\u001b[49m\u001b[43m(\u001b[49m\u001b[38;5;124;43m'\u001b[39;49m\u001b[38;5;130;43;01m\\n\u001b[39;49;00m\u001b[38;5;124;43m'\u001b[39;49m\u001b[43m,\u001b[49m\u001b[38;5;124;43m'\u001b[39;49m\u001b[38;5;124;43m'\u001b[39;49m\u001b[43m)\u001b[49m\u001b[38;5;241;43m.\u001b[39;49m\u001b[43mreplace\u001b[49m\u001b[43m(\u001b[49m\u001b[38;5;124;43m'\u001b[39;49m\u001b[38;5;124;43m[ \u001b[39;49m\u001b[38;5;124;43m'\u001b[39;49m\u001b[43m,\u001b[49m\u001b[38;5;124;43m'\u001b[39;49m\u001b[38;5;124;43m[\u001b[39;49m\u001b[38;5;124;43m'\u001b[39;49m\u001b[43m)\u001b[49m\u001b[38;5;241;43m.\u001b[39;49m\u001b[43mreplace\u001b[49m\u001b[43m(\u001b[49m\u001b[38;5;124;43m'\u001b[39;49m\u001b[38;5;124;43m[ \u001b[39;49m\u001b[38;5;124;43m'\u001b[39;49m\u001b[43m,\u001b[49m\u001b[38;5;124;43m'\u001b[39;49m\u001b[38;5;124;43m[\u001b[39;49m\u001b[38;5;124;43m'\u001b[39;49m\u001b[43m)\u001b[49m\u001b[43m)\u001b[49m\u001b[43m)\u001b[49m\u001b[43m \u001b[49m\u001b[43m]\u001b[49m\u001b[43m \u001b[49m\u001b[38;5;28;43;01mif\u001b[39;49;00m\u001b[43m \u001b[49m\u001b[38;5;28;43mlen\u001b[39;49m\u001b[43m(\u001b[49m\u001b[43mx\u001b[49m\u001b[43m)\u001b[49m\u001b[38;5;241;43m>\u001b[39;49m\u001b[38;5;241;43m10\u001b[39;49m\u001b[43m \u001b[49m\u001b[38;5;28;43;01melse\u001b[39;49;00m\u001b[43m \u001b[49m\u001b[43m[\u001b[49m\u001b[38;5;28;43;01mNone\u001b[39;49;00m\u001b[43m]\u001b[49m\u001b[43m \u001b[49m\u001b[43m)\u001b[49m\n",
      "File \u001b[0;32m/opt/anaconda3/lib/python3.9/site-packages/pandas/core/series.py:4357\u001b[0m, in \u001b[0;36mSeries.apply\u001b[0;34m(self, func, convert_dtype, args, **kwargs)\u001b[0m\n\u001b[1;32m   4247\u001b[0m \u001b[38;5;28;01mdef\u001b[39;00m \u001b[38;5;21mapply\u001b[39m(\n\u001b[1;32m   4248\u001b[0m     \u001b[38;5;28mself\u001b[39m,\n\u001b[1;32m   4249\u001b[0m     func: AggFuncType,\n\u001b[0;32m   (...)\u001b[0m\n\u001b[1;32m   4252\u001b[0m     \u001b[38;5;241m*\u001b[39m\u001b[38;5;241m*\u001b[39mkwargs,\n\u001b[1;32m   4253\u001b[0m ) \u001b[38;5;241m-\u001b[39m\u001b[38;5;241m>\u001b[39m FrameOrSeriesUnion:\n\u001b[1;32m   4254\u001b[0m     \u001b[38;5;124;03m\"\"\"\u001b[39;00m\n\u001b[1;32m   4255\u001b[0m \u001b[38;5;124;03m    Invoke function on values of Series.\u001b[39;00m\n\u001b[1;32m   4256\u001b[0m \n\u001b[0;32m   (...)\u001b[0m\n\u001b[1;32m   4355\u001b[0m \u001b[38;5;124;03m    dtype: float64\u001b[39;00m\n\u001b[1;32m   4356\u001b[0m \u001b[38;5;124;03m    \"\"\"\u001b[39;00m\n\u001b[0;32m-> 4357\u001b[0m     \u001b[38;5;28;01mreturn\u001b[39;00m \u001b[43mSeriesApply\u001b[49m\u001b[43m(\u001b[49m\u001b[38;5;28;43mself\u001b[39;49m\u001b[43m,\u001b[49m\u001b[43m \u001b[49m\u001b[43mfunc\u001b[49m\u001b[43m,\u001b[49m\u001b[43m \u001b[49m\u001b[43mconvert_dtype\u001b[49m\u001b[43m,\u001b[49m\u001b[43m \u001b[49m\u001b[43margs\u001b[49m\u001b[43m,\u001b[49m\u001b[43m \u001b[49m\u001b[43mkwargs\u001b[49m\u001b[43m)\u001b[49m\u001b[38;5;241;43m.\u001b[39;49m\u001b[43mapply\u001b[49m\u001b[43m(\u001b[49m\u001b[43m)\u001b[49m\n",
      "File \u001b[0;32m/opt/anaconda3/lib/python3.9/site-packages/pandas/core/apply.py:1043\u001b[0m, in \u001b[0;36mSeriesApply.apply\u001b[0;34m(self)\u001b[0m\n\u001b[1;32m   1039\u001b[0m \u001b[38;5;28;01mif\u001b[39;00m \u001b[38;5;28misinstance\u001b[39m(\u001b[38;5;28mself\u001b[39m\u001b[38;5;241m.\u001b[39mf, \u001b[38;5;28mstr\u001b[39m):\n\u001b[1;32m   1040\u001b[0m     \u001b[38;5;66;03m# if we are a string, try to dispatch\u001b[39;00m\n\u001b[1;32m   1041\u001b[0m     \u001b[38;5;28;01mreturn\u001b[39;00m \u001b[38;5;28mself\u001b[39m\u001b[38;5;241m.\u001b[39mapply_str()\n\u001b[0;32m-> 1043\u001b[0m \u001b[38;5;28;01mreturn\u001b[39;00m \u001b[38;5;28;43mself\u001b[39;49m\u001b[38;5;241;43m.\u001b[39;49m\u001b[43mapply_standard\u001b[49m\u001b[43m(\u001b[49m\u001b[43m)\u001b[49m\n",
      "File \u001b[0;32m/opt/anaconda3/lib/python3.9/site-packages/pandas/core/apply.py:1098\u001b[0m, in \u001b[0;36mSeriesApply.apply_standard\u001b[0;34m(self)\u001b[0m\n\u001b[1;32m   1092\u001b[0m         values \u001b[38;5;241m=\u001b[39m obj\u001b[38;5;241m.\u001b[39mastype(\u001b[38;5;28mobject\u001b[39m)\u001b[38;5;241m.\u001b[39m_values\n\u001b[1;32m   1093\u001b[0m         \u001b[38;5;66;03m# error: Argument 2 to \"map_infer\" has incompatible type\u001b[39;00m\n\u001b[1;32m   1094\u001b[0m         \u001b[38;5;66;03m# \"Union[Callable[..., Any], str, List[Union[Callable[..., Any], str]],\u001b[39;00m\n\u001b[1;32m   1095\u001b[0m         \u001b[38;5;66;03m# Dict[Hashable, Union[Union[Callable[..., Any], str],\u001b[39;00m\n\u001b[1;32m   1096\u001b[0m         \u001b[38;5;66;03m# List[Union[Callable[..., Any], str]]]]]\"; expected\u001b[39;00m\n\u001b[1;32m   1097\u001b[0m         \u001b[38;5;66;03m# \"Callable[[Any], Any]\"\u001b[39;00m\n\u001b[0;32m-> 1098\u001b[0m         mapped \u001b[38;5;241m=\u001b[39m \u001b[43mlib\u001b[49m\u001b[38;5;241;43m.\u001b[39;49m\u001b[43mmap_infer\u001b[49m\u001b[43m(\u001b[49m\n\u001b[1;32m   1099\u001b[0m \u001b[43m            \u001b[49m\u001b[43mvalues\u001b[49m\u001b[43m,\u001b[49m\n\u001b[1;32m   1100\u001b[0m \u001b[43m            \u001b[49m\u001b[43mf\u001b[49m\u001b[43m,\u001b[49m\u001b[43m  \u001b[49m\u001b[38;5;66;43;03m# type: ignore[arg-type]\u001b[39;49;00m\n\u001b[1;32m   1101\u001b[0m \u001b[43m            \u001b[49m\u001b[43mconvert\u001b[49m\u001b[38;5;241;43m=\u001b[39;49m\u001b[38;5;28;43mself\u001b[39;49m\u001b[38;5;241;43m.\u001b[39;49m\u001b[43mconvert_dtype\u001b[49m\u001b[43m,\u001b[49m\n\u001b[1;32m   1102\u001b[0m \u001b[43m        \u001b[49m\u001b[43m)\u001b[49m\n\u001b[1;32m   1104\u001b[0m \u001b[38;5;28;01mif\u001b[39;00m \u001b[38;5;28mlen\u001b[39m(mapped) \u001b[38;5;129;01mand\u001b[39;00m \u001b[38;5;28misinstance\u001b[39m(mapped[\u001b[38;5;241m0\u001b[39m], ABCSeries):\n\u001b[1;32m   1105\u001b[0m     \u001b[38;5;66;03m# GH 25959 use pd.array instead of tolist\u001b[39;00m\n\u001b[1;32m   1106\u001b[0m     \u001b[38;5;66;03m# so extension arrays can be used\u001b[39;00m\n\u001b[1;32m   1107\u001b[0m     \u001b[38;5;28;01mreturn\u001b[39;00m obj\u001b[38;5;241m.\u001b[39m_constructor_expanddim(pd_array(mapped), index\u001b[38;5;241m=\u001b[39mobj\u001b[38;5;241m.\u001b[39mindex)\n",
      "File \u001b[0;32m/opt/anaconda3/lib/python3.9/site-packages/pandas/_libs/lib.pyx:2859\u001b[0m, in \u001b[0;36mpandas._libs.lib.map_infer\u001b[0;34m()\u001b[0m\n",
      "Input \u001b[0;32mIn [510]\u001b[0m, in \u001b[0;36m<lambda>\u001b[0;34m(x)\u001b[0m\n\u001b[0;32m----> 1\u001b[0m df_hr_speed_proper_speed \u001b[38;5;241m=\u001b[39m df_hr_proper[\u001b[38;5;124m'\u001b[39m\u001b[38;5;124mspeed(m/s)\u001b[39m\u001b[38;5;124m'\u001b[39m]\u001b[38;5;241m.\u001b[39mapply(\u001b[38;5;28;01mlambda\u001b[39;00m x:[\u001b[38;5;28mfloat\u001b[39m(s) \u001b[38;5;28;01mfor\u001b[39;00m s \u001b[38;5;129;01min\u001b[39;00m \u001b[38;5;28;43meval\u001b[39;49m\u001b[43m(\u001b[49m\u001b[43mre\u001b[49m\u001b[38;5;241;43m.\u001b[39;49m\u001b[43msub\u001b[49m\u001b[43m(\u001b[49m\u001b[38;5;124;43m'\u001b[39;49m\u001b[38;5;124;43m\\\u001b[39;49m\u001b[38;5;124;43ms+\u001b[39;49m\u001b[38;5;124;43m'\u001b[39;49m\u001b[43m,\u001b[49m\u001b[43m \u001b[49m\u001b[38;5;124;43m'\u001b[39;49m\u001b[38;5;124;43m,\u001b[39;49m\u001b[38;5;124;43m'\u001b[39;49m\u001b[43m,\u001b[49m\u001b[43m \u001b[49m\u001b[43mx\u001b[49m\u001b[38;5;241;43m.\u001b[39;49m\u001b[43mreplace\u001b[49m\u001b[43m(\u001b[49m\u001b[38;5;124;43m'\u001b[39;49m\u001b[38;5;130;43;01m\\n\u001b[39;49;00m\u001b[38;5;124;43m'\u001b[39;49m\u001b[43m,\u001b[49m\u001b[38;5;124;43m'\u001b[39;49m\u001b[38;5;124;43m'\u001b[39;49m\u001b[43m)\u001b[49m\u001b[38;5;241;43m.\u001b[39;49m\u001b[43mreplace\u001b[49m\u001b[43m(\u001b[49m\u001b[38;5;124;43m'\u001b[39;49m\u001b[38;5;124;43m[ \u001b[39;49m\u001b[38;5;124;43m'\u001b[39;49m\u001b[43m,\u001b[49m\u001b[38;5;124;43m'\u001b[39;49m\u001b[38;5;124;43m[\u001b[39;49m\u001b[38;5;124;43m'\u001b[39;49m\u001b[43m)\u001b[49m\u001b[38;5;241;43m.\u001b[39;49m\u001b[43mreplace\u001b[49m\u001b[43m(\u001b[49m\u001b[38;5;124;43m'\u001b[39;49m\u001b[38;5;124;43m[ \u001b[39;49m\u001b[38;5;124;43m'\u001b[39;49m\u001b[43m,\u001b[49m\u001b[38;5;124;43m'\u001b[39;49m\u001b[38;5;124;43m[\u001b[39;49m\u001b[38;5;124;43m'\u001b[39;49m\u001b[43m)\u001b[49m\u001b[43m)\u001b[49m\u001b[43m)\u001b[49m ] \u001b[38;5;28;01mif\u001b[39;00m \u001b[38;5;28mlen\u001b[39m(x)\u001b[38;5;241m>\u001b[39m\u001b[38;5;241m10\u001b[39m \u001b[38;5;28;01melse\u001b[39;00m [\u001b[38;5;28;01mNone\u001b[39;00m] )\n",
      "File \u001b[0;32m<string>:1\u001b[0m, in \u001b[0;36m<module>\u001b[0;34m\u001b[0m\n",
      "\u001b[0;31mNameError\u001b[0m: name 'inf' is not defined"
     ]
    }
   ],
   "source": [
    "df_hr_speed_proper_speed = df_hr_proper['speed(m/s)'].apply(lambda x:[float(s) for s in eval(re.sub('\\s+', ',', x.replace('\\n','').replace('[ ','[').replace('[ ','['))) ] if len(x)>10 else [None] )"
   ]
  },
  {
   "cell_type": "code",
   "execution_count": 512,
   "id": "d0c82cb5-8548-490b-b1ce-6aafa5fdcf95",
   "metadata": {},
   "outputs": [
    {
     "data": {
      "text/plain": [
       "(167783,)"
      ]
     },
     "execution_count": 512,
     "metadata": {},
     "output_type": "execute_result"
    }
   ],
   "source": [
    "df_hr_speed_proper_hr.shape"
   ]
  },
  {
   "cell_type": "code",
   "execution_count": 503,
   "id": "aeba640c-2285-422c-aea8-cdcee834ff68",
   "metadata": {},
   "outputs": [],
   "source": [
    "np.save('./data/df_hr_speed_proper_hr.npy', df_hr_speed_proper_hr,allow_pickle=True)"
   ]
  },
  {
   "cell_type": "code",
   "execution_count": 511,
   "id": "c961b210-db9d-496a-a33a-0749affbd91b",
   "metadata": {},
   "outputs": [
    {
     "data": {
      "text/plain": [
       "(167783, 3)"
      ]
     },
     "execution_count": 511,
     "metadata": {},
     "output_type": "execute_result"
    }
   ],
   "source": [
    "#test2 = np.load('./data/df_hr_speed_proper_hr.npy', allow_pickle=True)\n",
    "df_hr_speed_proper.shape"
   ]
  },
  {
   "cell_type": "code",
   "execution_count": 518,
   "id": "2346662c-7682-42ed-b05f-4773ad021943",
   "metadata": {},
   "outputs": [],
   "source": [
    "df_hr_speed_proper_hr_mean = df_hr_speed_proper_hr.map(lambda x:np.mean(x))"
   ]
  },
  {
   "cell_type": "code",
   "execution_count": 523,
   "id": "2a4bac18-1182-46d7-b762-1f520bb954fb",
   "metadata": {},
   "outputs": [],
   "source": [
    "df_hr_speed_proper_hr_std = df_hr_speed_proper_hr.map(lambda x:np.std(x))"
   ]
  },
  {
   "cell_type": "code",
   "execution_count": 524,
   "id": "80aabb50-35f8-45cd-b85a-07b778e0f5d1",
   "metadata": {},
   "outputs": [
    {
     "data": {
      "image/png": "[encoded data removed]",
      "text/plain": [
       "<Figure size 432x288 with 1 Axes>"
      ]
     },
     "metadata": {
      "needs_background": "light"
     },
     "output_type": "display_data"
    }
   ],
   "source": [
    "plt.hist(df_hr_speed_proper_hr_std, bins = 100);"
   ]
  },
  {
   "cell_type": "code",
   "execution_count": 525,
   "id": "b6a355fa-d373-405d-901a-2a7e331695fd",
   "metadata": {},
   "outputs": [
    {
     "data": {
      "text/html": [
       "<div>\n",
       "<style scoped>\n",
       "    .dataframe tbody tr th:only-of-type {\n",
       "        vertical-align: middle;\n",
       "    }\n",
       "\n",
       "    .dataframe tbody tr th {\n",
       "        vertical-align: top;\n",
       "    }\n",
       "\n",
       "    .dataframe thead th {\n",
       "        text-align: right;\n",
       "    }\n",
       "</style>\n",
       "<table border=\"1\" class=\"dataframe\">\n",
       "  <thead>\n",
       "    <tr style=\"text-align: right;\">\n",
       "      <th></th>\n",
       "      <th>id</th>\n",
       "      <th>hr_mean</th>\n",
       "      <th>hr_std</th>\n",
       "    </tr>\n",
       "  </thead>\n",
       "  <tbody>\n",
       "    <tr>\n",
       "      <th>0</th>\n",
       "      <td>396826535</td>\n",
       "      <td>152.650</td>\n",
       "      <td>10.229736</td>\n",
       "    </tr>\n",
       "    <tr>\n",
       "      <th>1</th>\n",
       "      <td>392337038</td>\n",
       "      <td>147.710</td>\n",
       "      <td>10.970046</td>\n",
       "    </tr>\n",
       "    <tr>\n",
       "      <th>2</th>\n",
       "      <td>389643739</td>\n",
       "      <td>140.554</td>\n",
       "      <td>11.319500</td>\n",
       "    </tr>\n",
       "    <tr>\n",
       "      <th>3</th>\n",
       "      <td>386729739</td>\n",
       "      <td>147.020</td>\n",
       "      <td>11.414885</td>\n",
       "    </tr>\n",
       "    <tr>\n",
       "      <th>4</th>\n",
       "      <td>383186560</td>\n",
       "      <td>167.154</td>\n",
       "      <td>10.414523</td>\n",
       "    </tr>\n",
       "    <tr>\n",
       "      <th>...</th>\n",
       "      <td>...</td>\n",
       "      <td>...</td>\n",
       "      <td>...</td>\n",
       "    </tr>\n",
       "    <tr>\n",
       "      <th>167778</th>\n",
       "      <td>30369221</td>\n",
       "      <td>169.894</td>\n",
       "      <td>12.732587</td>\n",
       "    </tr>\n",
       "    <tr>\n",
       "      <th>167779</th>\n",
       "      <td>596955589</td>\n",
       "      <td>108.846</td>\n",
       "      <td>22.735221</td>\n",
       "    </tr>\n",
       "    <tr>\n",
       "      <th>167780</th>\n",
       "      <td>24888434</td>\n",
       "      <td>160.842</td>\n",
       "      <td>9.856421</td>\n",
       "    </tr>\n",
       "    <tr>\n",
       "      <th>167781</th>\n",
       "      <td>538385734</td>\n",
       "      <td>113.518</td>\n",
       "      <td>14.371001</td>\n",
       "    </tr>\n",
       "    <tr>\n",
       "      <th>167782</th>\n",
       "      <td>20253456</td>\n",
       "      <td>157.656</td>\n",
       "      <td>3.077932</td>\n",
       "    </tr>\n",
       "  </tbody>\n",
       "</table>\n",
       "<p>167783 rows × 3 columns</p>\n",
       "</div>"
      ],
      "text/plain": [
       "               id  hr_mean     hr_std\n",
       "0       396826535  152.650  10.229736\n",
       "1       392337038  147.710  10.970046\n",
       "2       389643739  140.554  11.319500\n",
       "3       386729739  147.020  11.414885\n",
       "4       383186560  167.154  10.414523\n",
       "...           ...      ...        ...\n",
       "167778   30369221  169.894  12.732587\n",
       "167779  596955589  108.846  22.735221\n",
       "167780   24888434  160.842   9.856421\n",
       "167781  538385734  113.518  14.371001\n",
       "167782   20253456  157.656   3.077932\n",
       "\n",
       "[167783 rows x 3 columns]"
      ]
     },
     "execution_count": 525,
     "metadata": {},
     "output_type": "execute_result"
    }
   ],
   "source": [
    "df_hr_mean_std = pd.DataFrame({'id':df_hr_speed_proper['id'],\n",
    "                               'hr_mean':df_hr_speed_proper_hr_mean,\n",
    "                               'hr_std':df_hr_speed_proper_hr_std,})\n",
    "df_hr_mean_std"
   ]
  },
  {
   "cell_type": "code",
   "execution_count": 531,
   "id": "4bb8f5b7-a39c-4688-a7b4-fc37cb2d1fb3",
   "metadata": {},
   "outputs": [],
   "source": [
    "#df_hr_mean_std.to_csv('./data/df_hr_mean_std.csv', index=False)\n",
    "test = pd.read_csv('./data/df_hr_mean_std.csv')"
   ]
  },
  {
   "cell_type": "code",
   "execution_count": 532,
   "id": "d1f04e64-e302-414f-8395-0f5e00e14373",
   "metadata": {},
   "outputs": [
    {
     "data": {
      "text/html": [
       "<div>\n",
       "<style scoped>\n",
       "    .dataframe tbody tr th:only-of-type {\n",
       "        vertical-align: middle;\n",
       "    }\n",
       "\n",
       "    .dataframe tbody tr th {\n",
       "        vertical-align: top;\n",
       "    }\n",
       "\n",
       "    .dataframe thead th {\n",
       "        text-align: right;\n",
       "    }\n",
       "</style>\n",
       "<table border=\"1\" class=\"dataframe\">\n",
       "  <thead>\n",
       "    <tr style=\"text-align: right;\">\n",
       "      <th></th>\n",
       "      <th>id</th>\n",
       "      <th>hr_mean</th>\n",
       "      <th>hr_std</th>\n",
       "    </tr>\n",
       "  </thead>\n",
       "  <tbody>\n",
       "    <tr>\n",
       "      <th>0</th>\n",
       "      <td>396826535</td>\n",
       "      <td>152.650</td>\n",
       "      <td>10.229736</td>\n",
       "    </tr>\n",
       "    <tr>\n",
       "      <th>1</th>\n",
       "      <td>392337038</td>\n",
       "      <td>147.710</td>\n",
       "      <td>10.970046</td>\n",
       "    </tr>\n",
       "    <tr>\n",
       "      <th>2</th>\n",
       "      <td>389643739</td>\n",
       "      <td>140.554</td>\n",
       "      <td>11.319500</td>\n",
       "    </tr>\n",
       "    <tr>\n",
       "      <th>3</th>\n",
       "      <td>386729739</td>\n",
       "      <td>147.020</td>\n",
       "      <td>11.414885</td>\n",
       "    </tr>\n",
       "    <tr>\n",
       "      <th>4</th>\n",
       "      <td>383186560</td>\n",
       "      <td>167.154</td>\n",
       "      <td>10.414523</td>\n",
       "    </tr>\n",
       "    <tr>\n",
       "      <th>...</th>\n",
       "      <td>...</td>\n",
       "      <td>...</td>\n",
       "      <td>...</td>\n",
       "    </tr>\n",
       "    <tr>\n",
       "      <th>167778</th>\n",
       "      <td>30369221</td>\n",
       "      <td>169.894</td>\n",
       "      <td>12.732587</td>\n",
       "    </tr>\n",
       "    <tr>\n",
       "      <th>167779</th>\n",
       "      <td>596955589</td>\n",
       "      <td>108.846</td>\n",
       "      <td>22.735221</td>\n",
       "    </tr>\n",
       "    <tr>\n",
       "      <th>167780</th>\n",
       "      <td>24888434</td>\n",
       "      <td>160.842</td>\n",
       "      <td>9.856421</td>\n",
       "    </tr>\n",
       "    <tr>\n",
       "      <th>167781</th>\n",
       "      <td>538385734</td>\n",
       "      <td>113.518</td>\n",
       "      <td>14.371001</td>\n",
       "    </tr>\n",
       "    <tr>\n",
       "      <th>167782</th>\n",
       "      <td>20253456</td>\n",
       "      <td>157.656</td>\n",
       "      <td>3.077932</td>\n",
       "    </tr>\n",
       "  </tbody>\n",
       "</table>\n",
       "<p>167783 rows × 3 columns</p>\n",
       "</div>"
      ],
      "text/plain": [
       "               id  hr_mean     hr_std\n",
       "0       396826535  152.650  10.229736\n",
       "1       392337038  147.710  10.970046\n",
       "2       389643739  140.554  11.319500\n",
       "3       386729739  147.020  11.414885\n",
       "4       383186560  167.154  10.414523\n",
       "...           ...      ...        ...\n",
       "167778   30369221  169.894  12.732587\n",
       "167779  596955589  108.846  22.735221\n",
       "167780   24888434  160.842   9.856421\n",
       "167781  538385734  113.518  14.371001\n",
       "167782   20253456  157.656   3.077932\n",
       "\n",
       "[167783 rows x 3 columns]"
      ]
     },
     "execution_count": 532,
     "metadata": {},
     "output_type": "execute_result"
    }
   ],
   "source": [
    "test"
   ]
  },
  {
   "cell_type": "code",
   "execution_count": 389,
   "id": "7a9e33d0-021f-4b6d-9e31-19ebc2e1ea37",
   "metadata": {},
   "outputs": [
    {
     "name": "stdout",
     "output_type": "stream",
     "text": [
      "501\n",
      "501\n"
     ]
    },
    {
     "data": {
      "text/plain": [
       "0    [0.0, 2.99611712, 4.68300039, 4.42653993, 6.81...\n",
       "1    [0.0, 3.43885299, 3.97920185, 4.82189054, 4.09...\n",
       "Name: speed(m/s), dtype: object"
      ]
     },
     "execution_count": 389,
     "metadata": {},
     "output_type": "execute_result"
    }
   ],
   "source": [
    "def str2num(x):\n",
    "    values = np.array([])\n",
    "    if type(x) == str:\n",
    "        x = x.split()\n",
    "        print(len(x))\n",
    "        for item in x:\n",
    "            if item =='[':\n",
    "                pass\n",
    "            else:\n",
    "                item = item.strip('[]')\n",
    "                values = np.append(values, float(item.strip()))\n",
    "    return values\n",
    "\n",
    "df_speed =  df_hr_proper.iloc[0:2]['speed(m/s)'].apply(str2num)\n",
    "df_speed"
   ]
  },
  {
   "cell_type": "code",
   "execution_count": null,
   "id": "6b0d2ba0-8955-4d9b-89f6-871c83d6098b",
   "metadata": {},
   "outputs": [],
   "source": []
  },
  {
   "cell_type": "code",
   "execution_count": 381,
   "id": "bee2a2ba-cf7a-44c9-b932-df63b4feef01",
   "metadata": {},
   "outputs": [
    {
     "data": {
      "image/png": "[encoded data removed]",
      "text/plain": [
       "<Figure size 432x288 with 1 Axes>"
      ]
     },
     "metadata": {
      "needs_background": "light"
     },
     "output_type": "display_data"
    }
   ],
   "source": [
    "\n",
    "df_heart_rate = df_hr_proper.iloc[0:2]['heart_rate'].apply(str2num)\n",
    "plt.plot(df_heart_rate[0]);"
   ]
  },
  {
   "cell_type": "code",
   "execution_count": 369,
   "id": "bd44afba-b339-4ea1-bcff-8323dd9560c6",
   "metadata": {},
   "outputs": [
    {
     "data": {
      "text/plain": [
       "167783"
      ]
     },
     "execution_count": 369,
     "metadata": {},
     "output_type": "execute_result"
    }
   ],
   "source": [
    "df_hr_proper['heart_rate'].notnull().sum()"
   ]
  },
  {
   "cell_type": "code",
   "execution_count": 343,
   "id": "5a005e0b-a4e0-4562-9b95-b5556721eef0",
   "metadata": {},
   "outputs": [
    {
     "name": "stdout",
     "output_type": "stream",
     "text": [
      "(253020, 20)\n"
     ]
    },
    {
     "data": {
      "text/html": [
       "<div>\n",
       "<style scoped>\n",
       "    .dataframe tbody tr th:only-of-type {\n",
       "        vertical-align: middle;\n",
       "    }\n",
       "\n",
       "    .dataframe tbody tr th {\n",
       "        vertical-align: top;\n",
       "    }\n",
       "\n",
       "    .dataframe thead th {\n",
       "        text-align: right;\n",
       "    }\n",
       "</style>\n",
       "<table border=\"1\" class=\"dataframe\">\n",
       "  <thead>\n",
       "    <tr style=\"text-align: right;\">\n",
       "      <th></th>\n",
       "      <th>gender</th>\n",
       "      <th>id</th>\n",
       "      <th>userId</th>\n",
       "      <th>sport</th>\n",
       "      <th>max_altitude</th>\n",
       "      <th>mean_altitude</th>\n",
       "      <th>min_altitude</th>\n",
       "      <th>max_heart_rate</th>\n",
       "      <th>mean_heart_rate</th>\n",
       "      <th>min_heart_rate</th>\n",
       "      <th>max_longitude</th>\n",
       "      <th>mean_longitude</th>\n",
       "      <th>min_longitude</th>\n",
       "      <th>max_latitude</th>\n",
       "      <th>mean_latitude</th>\n",
       "      <th>min_latitude</th>\n",
       "      <th>total_time</th>\n",
       "      <th>max-min_heart_rate</th>\n",
       "      <th>max-min_altitude</th>\n",
       "      <th>max-min_longitude</th>\n",
       "    </tr>\n",
       "  </thead>\n",
       "  <tbody>\n",
       "    <tr>\n",
       "      <th>0</th>\n",
       "      <td>male</td>\n",
       "      <td>396826535</td>\n",
       "      <td>10921915</td>\n",
       "      <td>bike</td>\n",
       "      <td>74.2</td>\n",
       "      <td>43.0712</td>\n",
       "      <td>14.6</td>\n",
       "      <td>177</td>\n",
       "      <td>152.650</td>\n",
       "      <td>100</td>\n",
       "      <td>24.651084</td>\n",
       "      <td>24.480066</td>\n",
       "      <td>24.337810</td>\n",
       "      <td>60.234857</td>\n",
       "      <td>60.182107</td>\n",
       "      <td>60.133427</td>\n",
       "      <td>7589</td>\n",
       "      <td>77</td>\n",
       "      <td>59.6</td>\n",
       "      <td>0.313274</td>\n",
       "    </tr>\n",
       "    <tr>\n",
       "      <th>1</th>\n",
       "      <td>male</td>\n",
       "      <td>392337038</td>\n",
       "      <td>10921915</td>\n",
       "      <td>bike</td>\n",
       "      <td>67.8</td>\n",
       "      <td>35.7248</td>\n",
       "      <td>17.2</td>\n",
       "      <td>174</td>\n",
       "      <td>147.710</td>\n",
       "      <td>100</td>\n",
       "      <td>24.651122</td>\n",
       "      <td>24.546053</td>\n",
       "      <td>24.457660</td>\n",
       "      <td>60.204310</td>\n",
       "      <td>60.179142</td>\n",
       "      <td>60.156585</td>\n",
       "      <td>4440</td>\n",
       "      <td>74</td>\n",
       "      <td>50.6</td>\n",
       "      <td>0.193463</td>\n",
       "    </tr>\n",
       "    <tr>\n",
       "      <th>2</th>\n",
       "      <td>male</td>\n",
       "      <td>389643739</td>\n",
       "      <td>10921915</td>\n",
       "      <td>bike</td>\n",
       "      <td>94.0</td>\n",
       "      <td>62.4256</td>\n",
       "      <td>33.4</td>\n",
       "      <td>168</td>\n",
       "      <td>140.554</td>\n",
       "      <td>99</td>\n",
       "      <td>24.651070</td>\n",
       "      <td>24.505033</td>\n",
       "      <td>24.391716</td>\n",
       "      <td>60.225367</td>\n",
       "      <td>60.174214</td>\n",
       "      <td>60.133453</td>\n",
       "      <td>6749</td>\n",
       "      <td>69</td>\n",
       "      <td>60.6</td>\n",
       "      <td>0.259354</td>\n",
       "    </tr>\n",
       "    <tr>\n",
       "      <th>3</th>\n",
       "      <td>male</td>\n",
       "      <td>386729739</td>\n",
       "      <td>10921915</td>\n",
       "      <td>bike</td>\n",
       "      <td>64.0</td>\n",
       "      <td>32.6104</td>\n",
       "      <td>12.4</td>\n",
       "      <td>178</td>\n",
       "      <td>147.020</td>\n",
       "      <td>99</td>\n",
       "      <td>24.651117</td>\n",
       "      <td>24.544119</td>\n",
       "      <td>24.457654</td>\n",
       "      <td>60.204322</td>\n",
       "      <td>60.179844</td>\n",
       "      <td>60.156567</td>\n",
       "      <td>4519</td>\n",
       "      <td>79</td>\n",
       "      <td>51.6</td>\n",
       "      <td>0.193463</td>\n",
       "    </tr>\n",
       "    <tr>\n",
       "      <th>4</th>\n",
       "      <td>male</td>\n",
       "      <td>383186560</td>\n",
       "      <td>10921915</td>\n",
       "      <td>bike (transport)</td>\n",
       "      <td>37.8</td>\n",
       "      <td>22.7620</td>\n",
       "      <td>9.8</td>\n",
       "      <td>183</td>\n",
       "      <td>167.154</td>\n",
       "      <td>110</td>\n",
       "      <td>24.817608</td>\n",
       "      <td>24.731128</td>\n",
       "      <td>24.649798</td>\n",
       "      <td>60.184767</td>\n",
       "      <td>60.178065</td>\n",
       "      <td>60.171599</td>\n",
       "      <td>1357</td>\n",
       "      <td>73</td>\n",
       "      <td>28.0</td>\n",
       "      <td>0.167810</td>\n",
       "    </tr>\n",
       "  </tbody>\n",
       "</table>\n",
       "</div>"
      ],
      "text/plain": [
       "  gender         id    userId             sport  max_altitude  mean_altitude  \\\n",
       "0   male  396826535  10921915              bike          74.2        43.0712   \n",
       "1   male  392337038  10921915              bike          67.8        35.7248   \n",
       "2   male  389643739  10921915              bike          94.0        62.4256   \n",
       "3   male  386729739  10921915              bike          64.0        32.6104   \n",
       "4   male  383186560  10921915  bike (transport)          37.8        22.7620   \n",
       "\n",
       "   min_altitude  max_heart_rate  mean_heart_rate  min_heart_rate  \\\n",
       "0          14.6             177          152.650             100   \n",
       "1          17.2             174          147.710             100   \n",
       "2          33.4             168          140.554              99   \n",
       "3          12.4             178          147.020              99   \n",
       "4           9.8             183          167.154             110   \n",
       "\n",
       "   max_longitude  mean_longitude  min_longitude  max_latitude  mean_latitude  \\\n",
       "0      24.651084       24.480066      24.337810     60.234857      60.182107   \n",
       "1      24.651122       24.546053      24.457660     60.204310      60.179142   \n",
       "2      24.651070       24.505033      24.391716     60.225367      60.174214   \n",
       "3      24.651117       24.544119      24.457654     60.204322      60.179844   \n",
       "4      24.817608       24.731128      24.649798     60.184767      60.178065   \n",
       "\n",
       "   min_latitude  total_time  max-min_heart_rate  max-min_altitude  \\\n",
       "0     60.133427        7589                  77              59.6   \n",
       "1     60.156585        4440                  74              50.6   \n",
       "2     60.133453        6749                  69              60.6   \n",
       "3     60.156567        4519                  79              51.6   \n",
       "4     60.171599        1357                  73              28.0   \n",
       "\n",
       "   max-min_longitude  \n",
       "0           0.313274  \n",
       "1           0.193463  \n",
       "2           0.259354  \n",
       "3           0.193463  \n",
       "4           0.167810  "
      ]
     },
     "execution_count": 343,
     "metadata": {},
     "output_type": "execute_result"
    }
   ],
   "source": [
    "df_derivative = pd.read_csv('./data/HR_derivative_features.csv')\n",
    "print(df_derivative.shape)\n",
    "df_derivative.head()"
   ]
  },
  {
   "cell_type": "code",
   "execution_count": null,
   "id": "f77006c3-3122-40fa-8276-4fa074f1e060",
   "metadata": {},
   "outputs": [],
   "source": []
  },
  {
   "cell_type": "code",
   "execution_count": 366,
   "id": "0e86e73f-7398-4d32-afd7-b96a1e1cdea6",
   "metadata": {},
   "outputs": [
    {
     "data": {
      "image/png": "[encoded data removed]",
      "text/plain": [
       "<Figure size 1440x360 with 1 Axes>"
      ]
     },
     "metadata": {
      "needs_background": "light"
     },
     "output_type": "display_data"
    }
   ],
   "source": [
    "plt.figure(figsize=(20,5))\n",
    "plt.plot(eval(df_hr['speed'][0]), label='original');\n",
    "plt.plot(test[0]*3.6,label='proper')\n",
    "plt.legend();"
   ]
  },
  {
   "cell_type": "code",
   "execution_count": null,
   "id": "73446a1d-a9c5-47e1-a5c1-a96c07b73add",
   "metadata": {},
   "outputs": [],
   "source": []
  },
  {
   "cell_type": "code",
   "execution_count": null,
   "id": "01525fc1-e93c-4471-a252-45034a848338",
   "metadata": {},
   "outputs": [],
   "source": []
  },
  {
   "cell_type": "markdown",
   "id": "c80d8787-d1f6-41a7-9d8c-59c185d9455a",
   "metadata": {},
   "source": [
    "### 1. A simple RecSys without user data\n",
    "* Data. Item features will be extracted from text (NLP required). \n",
    "\n",
    "| | Feature1(numeric) | Feature2(categorical)... | Descriptions (text) | Customer Reviews Ratings (numeric)| Customer Reviews (text)|\n",
    "|---:|:-------------|:-----------|:-----------|:-----------|:-----------|\n",
    "| Item1 | 100 | 'red'   | 'xxxxx'  | 1.0 | 'xxxxx'  | \n",
    "| Item2 | 200| 'blue'  | 'xxxxx'  | 4.0 | 'xxxxx'  | \n",
    "| Item3 | 200  | 'green'  | 'xxxxx'  | 4.5| 'xxxxx'  | \n",
    "\n",
    "* How does it work?\n",
    "    * vectorize each item -> feature engineering with NLP tools\n",
    "    * cluster items according to their features -> unsupervised learning methods such as Kmeans, DBSCAN, LDA or get a hierarchical structure\n",
    "    * We can manually label few examples, and use semi-supervised learning methods for accurate clustering.\n",
    "    * can also do keyword search. (a search engine)\n",
    "         * vectorize the search keywords in a similar way as item descriptions\n",
    "         * match the keyword vector with cluster averaged vector -> return the class tag of the clustering.-> a fuzzy search, from coarse to fine search use the hierarachical structures within the items.\n",
    "         * match keyword vector with item vectors using similarity -> return individual item -> an itemwise search.\n",
    "         * get the top K items according to similarity -> a ranking problem\n",
    "\n",
    "### 2. A RecSys with content based filtering\n",
    "* Data\n",
    "    * Item information similar to in 1.\n",
    "    * For user-item interaction, below is an example.\n",
    "    * All we need is who interacted with what, we do not need detailed profile of customers.\n",
    "\n",
    "| interaction index | User ID | Item ID | Interaction type/ratings (numeric, categorical) (optional)| Timestamp (optional) |\n",
    "|---:|:-------------|:-----------|:-----------|:-----------|\n",
    "| 0 | u1 |  v100 | 'view'  / 1.0 |  2022-6-20 13:56:00  | \n",
    "| 1 | u2 | v33  | 'purchase'  / 4.0 | 2022-6-20 13:56:01  | \n",
    "| 2 | u3  | v679  | 'comment'  / 4.5| 2022-6-20 13:56:59   | \n",
    "\n",
    "* Data processing: Convert the above user-interaction-item triplet into an interaction matrix $ X $\n",
    "    * If the interaction type/ratings are specified, NaN means no interaction history, and graded value indicates strength of interaction, we will have a regression case.\n",
    "    * If the interaction type/ratings are not specified, we will replace NaN with 0. use it as a binary classification case: 1 means interacted, 0 means not interacted.\n",
    "    \n",
    "| | item1 | item2 | item3 | item4 |\n",
    "|---:|:-------------|:-----------|:-----------|:-----------|\n",
    "| user0 | NaN |  1.0 | 3.0 | 0|\n",
    "| user1 | 2.0 | 1.0  | 0 | 4.5|\n",
    "| user2 | 0  | 2.5 | 5.0 | NaN |\n",
    "\n",
    "* Content based filtering: How does it work?      \n",
    "    * same as in section 1, we first vectorize each item\n",
    "    * Let's say user A bought item x, recommend a similar item y such that a similarity score function sim(x,y) is highest. -> A recommendation/ranking problem\n",
    "    * If the predicted A vs y relation is a rating score. Can we predict y accurately? -> A regression problem\n",
    "    * If the predicted A vs y relation is binary -> classification problem\n",
    "   \n",
    "\n",
    "### 3. A RecSys with collaborative filtering \n",
    "\n",
    "* Collaborative filtering: how does it work?\n",
    "    * Both user A and B purchased x, given user A also bought y, we should recommend y to B.\n",
    "    * Concept is simple, implementation uses Matrix Factorization. The input is the interaction matrix X, the output is the two lower rank matrix U and V called factors\n",
    "\n",
    "    * $X = U^T V$\n",
    "         \n",
    "         X has shape of (m,n) <br> \n",
    "         U has shape of (k,m)-> so called user embedding <br> \n",
    "         V has shape of (k,n)-> so called item embedding <br> \n",
    "         m is the number of users, n is the total number of items, k is the preset number of factors - \"stereotypes\" of user/item groups - usually k << m,n.\n",
    "    * Loss function = MSE + L2 regularization\n",
    "        $$ L(U,V) = \\sum_{i,j}(u^T_i v_j - X_{i,j})^2+ \\lambda (|u_i|^2 + |v_j|^2)$$\n",
    "    * The graded rating can be used for regression. The binary value can be used for classification\n",
    "    \n",
    "    \n",
    "\n",
    "### 4. User-attribute-aware collaborative filtering\n",
    "\n",
    "* with item, user-item information\n",
    "* Additional User attributes can refine the collaborative filtering further, but we will not go into the rabbit hole\n",
    "\n",
    "\n",
    "| | Gender| Age | Geographic info (zipcode, IP etc)|\n",
    "|---:|:-------------|:-----------|:-----------|\n",
    "| User1 | F | 20   | 'xxxxx' |\n",
    "| User2 | M | 40  | 'xxxxx'  | \n",
    "| User3 | M | 50  | 'xxxxx'  | \n"
   ]
  },
  {
   "cell_type": "markdown",
   "id": "2953bc87-712f-4880-8c51-d10b83cc73aa",
   "metadata": {},
   "source": [
    "\n",
    "## Problem statement\n",
    "* Bussiness problems\n",
    "* Metrics\n",
    "\n",
    "\n",
    "## Data\n",
    "* Items / Users / User-Item\n",
    "\n",
    "## Model\n",
    "* Feature selection\n",
    "* Feature engineering\n",
    "* how to train-val-test split\n",
    "* \n",
    "\n",
    "## Deployment\n",
    "* "
   ]
  },
  {
   "cell_type": "code",
   "execution_count": null,
   "id": "8fbda9b5-adb4-44ba-832d-9f1f03f749aa",
   "metadata": {},
   "outputs": [],
   "source": []
  }
 ],
 "metadata": {
  "kernelspec": {
   "display_name": "Python 3 (ipykernel)",
   "language": "python",
   "name": "python3"
  },
  "language_info": {
   "codemirror_mode": {
    "name": "ipython",
    "version": 3
   },
   "file_extension": ".py",
   "mimetype": "text/x-python",
   "name": "python",
   "nbconvert_exporter": "python",
   "pygments_lexer": "ipython3",
   "version": "3.9.12"
  },
  "varInspector": {
   "cols": {
    "lenName": 16,
    "lenType": 16,
    "lenVar": 40
   },
   "kernels_config": {
    "python": {
     "delete_cmd_postfix": "",
     "delete_cmd_prefix": "del ",
     "library": "var_list.py",
     "varRefreshCmd": "print(var_dic_list())"
    },
    "r": {
     "delete_cmd_postfix": ") ",
     "delete_cmd_prefix": "rm(",
     "library": "var_list.r",
     "varRefreshCmd": "cat(var_dic_list()) "
    }
   },
   "types_to_exclude": [
    "module",
    "function",
    "builtin_function_or_method",
    "instance",
    "_Feature"
   ],
   "window_display": false
  }
 },
 "nbformat": 4,
 "nbformat_minor": 5
}
