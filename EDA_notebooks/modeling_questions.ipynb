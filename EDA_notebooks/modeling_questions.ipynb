{
 "cells": [
  {
   "cell_type": "markdown",
   "metadata": {},
   "source": [
    "*Build a model based on the data you have scraped. Don't worry if the model is far from perfect. You can always improve later. The most important thing is your story, you can answer the following questions after you finish modeling.*"
   ]
  },
  {
   "cell_type": "markdown",
   "metadata": {},
   "source": [
    "*1. Why this project is important? What problem are you trying to solve?*"
   ]
  },
  {
   "cell_type": "markdown",
   "metadata": {},
   "source": [
    "We want to understand the patterns of exercise and health related information within the vast users data. And provide insights and suggests to the stakeholders of the sport watch vendor and App design team. \n",
    " The specific problems we are trying to solve are\n",
    "* health related insights: what are the correlates between heart rate and different activities.\n",
    "* customer segmentation: what's are the pattern based on user data, what are their preferred activities. Based on the long-term tracking of individual user, and population's health data, Can we provide services such as health report, and recommend potential activities.\n",
    "\n",
    "* projection, Time series modeling."
   ]
  },
  {
   "cell_type": "markdown",
   "metadata": {},
   "source": [
    "*2. How do you measure the model performance (metrics)? What is the benchmark?*"
   ]
  },
  {
   "cell_type": "markdown",
   "metadata": {},
   "source": [
    "* For health related insights, We will build a prediction model on either the calorie burnt or heart rate in relationship to other features collected within the session. We found that the ensemble models such as XGboost and Random forest model can handle this complicated interactions between features. Our benchmark will be a linear regression model. The metrics used in the modeling will be the averaged errors across user populations and explanatory power (R2)  \n",
    "\n",
    "* for customer segmentation and personalized recommendation. \n",
    "    we can segment the customers in different aspects. for example, we found users with strong preference in one type of sport, and health related information. By designing feature at individual user level, we can build a clustering model and identify similar behavior groups. The benchmark clustering methods were not well established in industry. However, we can leverage the issue with the amount of user data at hand, for example, we can split the samples from a single user randomly into two sets. And compare the result between two model prediction. A score of agreements will be the indicator of the consistency of the clustering. (https://stats.stackexchange.com/a/87225/358185) Afterwards, we will present with personalized recommendation based on the similarity between and within user groups. \n",
    "    "
   ]
  },
  {
   "cell_type": "markdown",
   "metadata": {},
   "source": [
    "*3. How is your model? Have achieved your goal? How to evaluate the business value of your model?*"
   ]
  },
  {
   "cell_type": "markdown",
   "metadata": {},
   "source": [
    "When building a predictive model on the heart rate. We engineered few features and tested each of them. Our tree based models( Random forest and XGboost) can achieve R2 close to 0.56 which was improved over the regression model (~ 0.46). \n",
    "For calories or heart rate value based on other user information, we can achieve reasonably precise estimation. That will give user guidance for using the gadget before exercise."
   ]
  },
  {
   "cell_type": "markdown",
   "metadata": {},
   "source": [
    "*4. Any insights have you gotten from your model? Any actionable suggestions can you provide to your business partner?*"
   ]
  },
  {
   "cell_type": "markdown",
   "metadata": {},
   "source": [
    "By engineering features such as the calories_rate, mean and deviation from the lengthy time series, the model performance can greatly improve. That indicates that the bottleneck for the model might be some critical information missing in this dataset, and there may also lots of redundancy in it as well. For actionable bussiness suggestions would be to properly engineering the feature beforehand, such that the deployment of ML model at the wearable device can handle health related data fast with much less resources."
   ]
  },
  {
   "cell_type": "markdown",
   "metadata": {},
   "source": [
    "*5. What is the most challenging part in the project? How did you solve it? How will you futher improve your model if you get more resources and time.*"
   ]
  },
  {
   "cell_type": "markdown",
   "metadata": {},
   "source": [
    "The most challenging part of the project is defining a business problem. That ties to the dataset. On one side, we are missing user information like age and body weight For example, which are critical to the prediction of health related variable. Secondly, we are not sure if the provided measurements( such like calories) or inference from their models. we are not sure whether the heart rate variation coming from the data collection process, the ways user measured differently will also bring great discrepancy to the data. \n",
    "\n",
    "An intuitive solution would be normalizing some features within user to account for the variability. We tried, that brought a great improvement to the model performance. However, this might run into the danger of data leakage. If we have time and resources, What we should do is to establish a structural causal model and handle variables rigorously with statistical tools."
   ]
  },
  {
   "cell_type": "markdown",
   "metadata": {},
   "source": [
    "*Make sure that your work includes these parts:*\n",
    "1. **Pre-model Analysis**: process and visualize data; get insights of features and target.\n",
    "2. **Problem Definition**: translate the business needs into machine learning problems; design metrics to measure model performance.\n",
    "3. **Feature Engineering**: create features which might improve model performance.\n",
    "4. **Modeling**: Model selection, feature elimination, validation, hyperparameter tuning.\n",
    "5. **Post-model Analysis**: Model performance, feature importance, actionable suggestions to business."
   ]
  },
  {
   "cell_type": "code",
   "execution_count": null,
   "metadata": {},
   "outputs": [],
   "source": []
  }
 ],
 "metadata": {
  "kernelspec": {
   "display_name": "Python 3 (ipykernel)",
   "language": "python",
   "name": "python3"
  },
  "language_info": {
   "codemirror_mode": {
    "name": "ipython",
    "version": 3
   },
   "file_extension": ".py",
   "mimetype": "text/x-python",
   "name": "python",
   "nbconvert_exporter": "python",
   "pygments_lexer": "ipython3",
   "version": "3.9.12"
  }
 },
 "nbformat": 4,
 "nbformat_minor": 4
}
